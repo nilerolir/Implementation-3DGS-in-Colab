{
  "nbformat": 4,
  "nbformat_minor": 0,
  "metadata": {
    "colab": {
      "provenance": [],
      "gpuType": "T4"
    },
    "kernelspec": {
      "name": "python3",
      "display_name": "Python 3"
    },
    "language_info": {
      "name": "python"
    },
    "accelerator": "GPU"
  },
  "cells": [
    {
      "cell_type": "markdown",
      "source": [
        "#**3DGS Implementation**"
      ],
      "metadata": {
        "id": "-u4jDHaK2R39"
      }
    },
    {
      "cell_type": "code",
      "source": [
        "# CUDA execution environment verification\n",
        "# Check if CUDA is available and display its version and GPU information\n",
        "import torch\n",
        "if torch.cuda.is_available():\n",
        "    print(\"CUDA is available.\")\n",
        "    print(\"CUDA version:\", torch.version.cuda)\n",
        "    print(\"GPU:\", torch.cuda.get_device_name(0))\n",
        "else:\n",
        "    print(\"CUDA is not available.\")\n",
        "\n",
        "# Cloning the repository, setting up the directory, and downloading the repository from graphdeco-inria\n",
        "%cd /content\n",
        "!git clone --recursive https://github.com/camenduru/gaussian-splatting\n",
        "!pip install -q plyfile\n",
        "%cd /content/gaussian-splatting\n",
        "!pip install -q /content/gaussian-splatting/submodules/diff-gaussian-rasterization\n",
        "!pip install -q /content/gaussian-splatting/submodules/simple-knn\n",
        "\n",
        "# Dataset download and preparation\n",
        "!mkdir -p /content/gaussian-splatting/data/{chose a name}/input  # In the {choose a name} folder, you will place the .zip file.\n",
        "!wget -O dataset.zip <link>\n",
        "!unzip dataset.zip -d /content/gaussian-splatting/data/plant/input # The {input} folder will contain the images for training.\n",
        "\n",
        "# Optional: Convert an MP4 video to frames\n",
        "#   !wget -O dataset.mp4 <link>\n",
        "#   !ffmpeg -i dataset.mp4 -qscale:v 1 -qmin 1 -vf fps=<change the number of frames per second> %04d.jpg\n",
        "# Note: If you add too many images for training, it will take a long time to build COLMAP.\n",
        "# Consider your execution time, especially if you are using Colab Free.\n",
        "\n",
        "# COLMAP installation\n",
        "%cd /content\n",
        "!sudo apt-get install -y \\\n",
        "    git cmake ninja-build build-essential \\\n",
        "    libboost-program-options-dev libboost-filesystem-dev libboost-graph-dev \\\n",
        "    libboost-system-dev libboost-regex-dev libboost-test-dev libeigen3-dev \\\n",
        "    libflann-dev libfreeimage-dev libmetis-dev libgoogle-glog-dev libgtest-dev \\\n",
        "    libsqlite3-dev libglew-dev qtbase5-dev libqt5opengl5-dev libcgal-dev \\\n",
        "    libceres-dev libsuitesparse-dev libgflags-dev libpng-dev libjpeg-dev \\\n",
        "    libtiff-dev libxxf86vm1 libxxf86vm-dev libxi-dev libxrandr-dev\n",
        "\n",
        "# COLMAP configuration\n",
        "%cd /content\n",
        "!git clone https://github.com/colmap/colmap.git\n",
        "%cd colmap\n",
        "!mkdir build\n",
        "%cd build\n",
        "!cmake ..\n",
        "!make -j$(nproc)\n",
        "!sudo make install\n",
        "\n",
        "# Dataset conversion using COLMAP\n",
        "%cd /content/gaussian-splatting\n",
        "!python convert.py -s /content/gaussian-splatting/data/{chose a name}  #input_path = \"/content/gaussian-splatting/data/{chose a name}\"\n",
        "\n",
        "# Model training\n",
        "# iteration_num = 7000  (This is because training takes a long time, which might be too much for Colab Free.)\n",
        "# output_path = \"/content/gaussian-splatting/output\"\n",
        "# Do not use `!mkdir -p {output_path}` because the program itself creates an output folder. Inside it, the trained model is stored with an arbitrary name.\n",
        "!python train.py -s /content/gaussian-splatting/data/plant --iterations 7000 --save_iterations 3000 5000 7000\n",
        "\n",
        "# The results are stored in the \"output\" folder.\n",
        "!ls /content/gaussian-splatting/output\n",
        "\n"
      ],
      "metadata": {
        "colab": {
          "base_uri": "https://localhost:8080/"
        },
        "collapsed": true,
        "id": "Xs2TxvsbvFWg",
        "outputId": "28811801-063c-4b76-e452-45ccdbd9e9dd"
      },
      "execution_count": null,
      "outputs": [
        {
          "output_type": "stream",
          "name": "stdout",
          "text": [
            "CUDA is available.\n",
            "CUDA version: 12.1\n",
            "GPU: Tesla T4\n",
            "/content\n",
            "Cloning into 'gaussian-splatting'...\n",
            "remote: Enumerating objects: 603, done.\u001b[K\n",
            "remote: Total 603 (delta 0), reused 0 (delta 0), pack-reused 603 (from 1)\u001b[K\n",
            "Receiving objects: 100% (603/603), 2.09 MiB | 29.31 MiB/s, done.\n",
            "Resolving deltas: 100% (349/349), done.\n",
            "Submodule 'SIBR_viewers' (https://gitlab.inria.fr/sibr/sibr_core) registered for path 'SIBR_viewers'\n",
            "Submodule 'submodules/diff-gaussian-rasterization' (https://github.com/graphdeco-inria/diff-gaussian-rasterization) registered for path 'submodules/diff-gaussian-rasterization'\n",
            "Submodule 'submodules/simple-knn' (https://gitlab.inria.fr/bkerbl/simple-knn.git) registered for path 'submodules/simple-knn'\n",
            "Cloning into '/content/gaussian-splatting/SIBR_viewers'...\n",
            "warning: redirecting to https://gitlab.inria.fr/sibr/sibr_core.git/\n",
            "remote: Enumerating objects: 3293, done.        \n",
            "remote: Counting objects: 100% (322/322), done.        \n",
            "remote: Compressing objects: 100% (174/174), done.        \n",
            "remote: Total 3293 (delta 171), reused 280 (delta 148), pack-reused 2971 (from 1)        \n",
            "Receiving objects: 100% (3293/3293), 9.98 MiB | 7.78 MiB/s, done.\n",
            "Resolving deltas: 100% (2039/2039), done.\n",
            "Cloning into '/content/gaussian-splatting/submodules/diff-gaussian-rasterization'...\n",
            "remote: Enumerating objects: 329, done.        \n",
            "remote: Counting objects: 100% (189/189), done.        \n",
            "remote: Compressing objects: 100% (53/53), done.        \n",
            "remote: Total 329 (delta 161), reused 136 (delta 136), pack-reused 140 (from 1)        \n",
            "Receiving objects: 100% (329/329), 126.27 KiB | 5.49 MiB/s, done.\n",
            "Resolving deltas: 100% (209/209), done.\n",
            "Cloning into '/content/gaussian-splatting/submodules/simple-knn'...\n",
            "remote: Enumerating objects: 37, done.        \n",
            "remote: Counting objects: 100% (37/37), done.        \n",
            "remote: Compressing objects: 100% (34/34), done.        \n",
            "remote: Total 37 (delta 18), reused 0 (delta 0), pack-reused 0 (from 0)        \n",
            "Receiving objects: 100% (37/37), 9.41 KiB | 9.41 MiB/s, done.\n",
            "Resolving deltas: 100% (18/18), done.\n",
            "Submodule path 'SIBR_viewers': checked out '14199886ae3f42358092c16ada909c1e0b1cba20'\n",
            "Submodule path 'submodules/diff-gaussian-rasterization': checked out '8064f52ca233942bdec2d1a1451c026deedd320b'\n",
            "Submodule 'third_party/glm' (https://github.com/g-truc/glm.git) registered for path 'submodules/diff-gaussian-rasterization/third_party/glm'\n",
            "Cloning into '/content/gaussian-splatting/submodules/diff-gaussian-rasterization/third_party/glm'...\n",
            "remote: Enumerating objects: 59930, done.        \n",
            "remote: Counting objects: 100% (147/147), done.        \n",
            "remote: Compressing objects: 100% (71/71), done.        \n",
            "remote: Total 59930 (delta 112), reused 76 (delta 76), pack-reused 59783 (from 3)        \n",
            "Receiving objects: 100% (59930/59930), 71.38 MiB | 17.36 MiB/s, done.\n",
            "Resolving deltas: 100% (45391/45391), done.\n",
            "Submodule path 'submodules/diff-gaussian-rasterization/third_party/glm': checked out '5c46b9c07008ae65cb81ab79cd677ecc1934b903'\n",
            "Submodule path 'submodules/simple-knn': checked out '44f764299fa305faf6ec5ebd99939e0508331503'\n",
            "/content/gaussian-splatting\n",
            "  Preparing metadata (setup.py) ... \u001b[?25l\u001b[?25hdone\n",
            "  Building wheel for diff_gaussian_rasterization (setup.py) ... \u001b[?25l\u001b[?25hdone\n",
            "  Preparing metadata (setup.py) ... \u001b[?25l\u001b[?25hdone\n"
          ]
        }
      ]
    },
    {
      "cell_type": "code",
      "source": [
        "# Download the results folder\n",
        "%cd /content/gaussian-splatting/output/{results folder}\n",
        "!zip -r {results folder}.zip /content/gaussian-splatting/output/{results folder}\n",
        "from google.colab import files\n",
        "files.download(\"{results folder}.zip\")"
      ],
      "metadata": {
        "colab": {
          "base_uri": "https://localhost:8080/",
          "height": 430
        },
        "id": "Lo4wm2KgU_NB",
        "outputId": "d2decd67-4812-40cd-e249-036f8b8e5990"
      },
      "execution_count": 1,
      "outputs": [
        {
          "output_type": "stream",
          "name": "stdout",
          "text": [
            "[Errno 2] No such file or directory: '/content/gaussian-splatting/output/{results folder}'\n",
            "/content\n",
            "\tzip warning: name not matched: folder}.zip\n",
            "\tzip warning: name not matched: /content/gaussian-splatting/output/{results\n",
            "\tzip warning: name not matched: folder}\n",
            "\n",
            "zip error: Nothing to do! (try: zip -r {results . -i folder}.zip /content/gaussian-splatting/output/{results folder})\n"
          ]
        },
        {
          "output_type": "error",
          "ename": "FileNotFoundError",
          "evalue": "Cannot find file: {results folder}.zip",
          "traceback": [
            "\u001b[0;31m---------------------------------------------------------------------------\u001b[0m",
            "\u001b[0;31mFileNotFoundError\u001b[0m                         Traceback (most recent call last)",
            "\u001b[0;32m<ipython-input-1-44132ad195f2>\u001b[0m in \u001b[0;36m<cell line: 0>\u001b[0;34m()\u001b[0m\n\u001b[1;32m      3\u001b[0m \u001b[0mget_ipython\u001b[0m\u001b[0;34m(\u001b[0m\u001b[0;34m)\u001b[0m\u001b[0;34m.\u001b[0m\u001b[0msystem\u001b[0m\u001b[0;34m(\u001b[0m\u001b[0;34m'zip -r {results folder}.zip /content/gaussian-splatting/output/{results folder}'\u001b[0m\u001b[0;34m)\u001b[0m\u001b[0;34m\u001b[0m\u001b[0;34m\u001b[0m\u001b[0m\n\u001b[1;32m      4\u001b[0m \u001b[0;32mfrom\u001b[0m \u001b[0mgoogle\u001b[0m\u001b[0;34m.\u001b[0m\u001b[0mcolab\u001b[0m \u001b[0;32mimport\u001b[0m \u001b[0mfiles\u001b[0m\u001b[0;34m\u001b[0m\u001b[0;34m\u001b[0m\u001b[0m\n\u001b[0;32m----> 5\u001b[0;31m \u001b[0mfiles\u001b[0m\u001b[0;34m.\u001b[0m\u001b[0mdownload\u001b[0m\u001b[0;34m(\u001b[0m\u001b[0;34m\"{results folder}.zip\"\u001b[0m\u001b[0;34m)\u001b[0m\u001b[0;34m\u001b[0m\u001b[0;34m\u001b[0m\u001b[0m\n\u001b[0m",
            "\u001b[0;32m/usr/local/lib/python3.11/dist-packages/google/colab/files.py\u001b[0m in \u001b[0;36mdownload\u001b[0;34m(filename)\u001b[0m\n\u001b[1;32m    231\u001b[0m   \u001b[0;32mif\u001b[0m \u001b[0;32mnot\u001b[0m \u001b[0m_os\u001b[0m\u001b[0;34m.\u001b[0m\u001b[0mpath\u001b[0m\u001b[0;34m.\u001b[0m\u001b[0mexists\u001b[0m\u001b[0;34m(\u001b[0m\u001b[0mfilename\u001b[0m\u001b[0;34m)\u001b[0m\u001b[0;34m:\u001b[0m\u001b[0;34m\u001b[0m\u001b[0;34m\u001b[0m\u001b[0m\n\u001b[1;32m    232\u001b[0m     \u001b[0mmsg\u001b[0m \u001b[0;34m=\u001b[0m \u001b[0;34m'Cannot find file: {}'\u001b[0m\u001b[0;34m.\u001b[0m\u001b[0mformat\u001b[0m\u001b[0;34m(\u001b[0m\u001b[0mfilename\u001b[0m\u001b[0;34m)\u001b[0m\u001b[0;34m\u001b[0m\u001b[0;34m\u001b[0m\u001b[0m\n\u001b[0;32m--> 233\u001b[0;31m     \u001b[0;32mraise\u001b[0m \u001b[0mFileNotFoundError\u001b[0m\u001b[0;34m(\u001b[0m\u001b[0mmsg\u001b[0m\u001b[0;34m)\u001b[0m  \u001b[0;31m# pylint: disable=undefined-variable\u001b[0m\u001b[0;34m\u001b[0m\u001b[0;34m\u001b[0m\u001b[0m\n\u001b[0m\u001b[1;32m    234\u001b[0m \u001b[0;34m\u001b[0m\u001b[0m\n\u001b[1;32m    235\u001b[0m   \u001b[0mcomm_manager\u001b[0m \u001b[0;34m=\u001b[0m \u001b[0m_IPython\u001b[0m\u001b[0;34m.\u001b[0m\u001b[0mget_ipython\u001b[0m\u001b[0;34m(\u001b[0m\u001b[0;34m)\u001b[0m\u001b[0;34m.\u001b[0m\u001b[0mkernel\u001b[0m\u001b[0;34m.\u001b[0m\u001b[0mcomm_manager\u001b[0m\u001b[0;34m\u001b[0m\u001b[0;34m\u001b[0m\u001b[0m\n",
            "\u001b[0;31mFileNotFoundError\u001b[0m: Cannot find file: {results folder}.zip"
          ]
        }
      ]
    }
  ]
}
